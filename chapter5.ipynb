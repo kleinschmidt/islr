{
 "metadata": {
  "language": "Julia",
  "name": "",
  "signature": "sha256:ecceca05da6b40bae43dadd639f717c67464fcc6a9de66909e2b734a97e50b71"
 },
 "nbformat": 3,
 "nbformat_minor": 0,
 "worksheets": [
  {
   "cells": [
    {
     "cell_type": "code",
     "collapsed": false,
     "input": [
      "using RDatasets, Gadfly, GLM\n",
      "\n",
      "function boot{T}(input::AbstractArray{T,1}, func::Function; n_boot=1000)\n",
      "    T = typeof(func(input))\n",
      "    boot_samps = T[]\n",
      "    n_data = length(input)\n",
      "    for i in 1:n_boot\n",
      "        push!(boot_samps, func(sample(input, n_data, replace=true)))\n",
      "    end\n",
      "    return boot_samps\n",
      "end"
     ],
     "language": "python",
     "metadata": {},
     "outputs": [
      {
       "metadata": {},
       "output_type": "pyout",
       "prompt_number": 1,
       "text": [
        "boot (generic function with 1 method)"
       ]
      },
      {
       "output_type": "stream",
       "stream": "stderr",
       "text": [
        "Warning: could not import Base.add! into NumericExtensions\n",
        "Warning: local variable T conflicts with a static parameter in __boot#299__ at In[1]:4.\n"
       ]
      }
     ],
     "prompt_number": 1
    },
    {
     "cell_type": "code",
     "collapsed": false,
     "input": [
      "pred_logistic(mm::GLM.GeneralizedLinearModel, newX::AbstractArray) = logistic(newX * coef(mm))\n",
      "pred_logistic(mm::DataFrames.DataFrameRegressionModel, newX::AbstractArray) = pred_logistic(mm.model, newX)\n",
      "function pred_logistic(mm::DataFrames.DataFrameRegressionModel, df::DataFrame)    \n",
      "    newX = ModelMatrix(ModelFrame(df, mm.mf.terms, falses(size(df[1]))))\n",
      "    pred_logistic(mm, newX.m)\n",
      "end"
     ],
     "language": "python",
     "metadata": {},
     "outputs": [
      {
       "metadata": {},
       "output_type": "pyout",
       "prompt_number": 3,
       "text": [
        "pred_logistic (generic function with 3 methods)"
       ]
      }
     ],
     "prompt_number": 3
    },
    {
     "cell_type": "markdown",
     "metadata": {},
     "source": [
      "# 5. Validation set\n",
      "\n",
      "## a) Fit GLM with income and balance..."
     ]
    },
    {
     "cell_type": "code",
     "collapsed": false,
     "input": [
      "default = dataset(\"ISLR\", \"Default\")\n",
      "default[:defaultYes] = Float64[d == \"Yes\" ? 1 : 0 for d in default[:default]]\n",
      "\n",
      "default_glm = glm(defaultYes ~ balance + income, default, Binomial())"
     ],
     "language": "python",
     "metadata": {},
     "outputs": [
      {
       "metadata": {},
       "output_type": "pyout",
       "prompt_number": 4,
       "text": [
        "DataFrameRegressionModel{GeneralizedLinearModel,Float64}:\n",
        "\n",
        "Coefficients:\n",
        "              Estimate   Std.Error z value Pr(>|z|)\n",
        "(Intercept)   -11.5405    0.362577 -31.829   <1e-99\n",
        "balance      0.0056471 0.000189624 29.7805   <1e-99\n",
        "income       2.0809e-5  4.15752e-6 5.00514    <1e-6\n"
       ]
      }
     ],
     "prompt_number": 4
    },
    {
     "cell_type": "markdown",
     "metadata": {},
     "source": [
      "## b) Validation set"
     ]
    },
    {
     "cell_type": "code",
     "collapsed": false,
     "input": [
      "function default_validation(f::Formula)\n",
      "    n_default = size(default, 1)\n",
      "    rand_inds = sample([1:n_default], n_default, replace=false)\n",
      "    test_inds = rand_inds[1:ceil(n_default/2)]\n",
      "    train_inds = rand_inds[ceil((n_default+1)/2):end]\n",
      "\n",
      "    default_glm_train = glm(f, default[train_inds, :], Binomial())\n",
      "    default_glm_test_prob = pred_logistic(default_glm_train, default[test_inds, :])\n",
      "    default_glm_test_pred = round(default_glm_test_prob)\n",
      "    @show proportion_yes = mean(default_glm_test_pred)\n",
      "    @show err = mean(default_glm_test_pred .!= default[test_inds, :defaultYes])\n",
      "end\n",
      "\n",
      "srand(1)\n",
      "default_validation(defaultYes ~ income + balance)"
     ],
     "language": "python",
     "metadata": {},
     "outputs": [
      {
       "output_type": "stream",
       "stream": "stdout",
       "text": [
        "proportion_yes = mean(default_glm_test_pred) => 0.01"
       ]
      },
      {
       "output_type": "stream",
       "stream": "stdout",
       "text": [
        "\n",
        "err = mean(default_glm_test_pred .!= default[test_inds,:defaultYes]) => "
       ]
      },
      {
       "output_type": "stream",
       "stream": "stdout",
       "text": [
        "0.0292\n"
       ]
      },
      {
       "metadata": {},
       "output_type": "pyout",
       "prompt_number": 5,
       "text": [
        "0.0292"
       ]
      }
     ],
     "prompt_number": 5
    },
    {
     "cell_type": "markdown",
     "metadata": {},
     "source": [
      "## c) Repeat x3"
     ]
    },
    {
     "cell_type": "code",
     "collapsed": false,
     "input": [
      "[default_validation(defaultYes ~ income + balance) for i in 1:3]"
     ],
     "language": "python",
     "metadata": {},
     "outputs": [
      {
       "output_type": "stream",
       "stream": "stdout",
       "text": [
        "proportion_yes = mean(default_glm_test_pred) => 0.0048\n",
        "err = mean(default_glm_test_pred .!= default[test_inds,:defaultYes]) => 0.0296\n",
        "proportion_yes = mean(default_glm_test_pred) => 0.0088\n",
        "err = mean(default_glm_test_pred .!= default[test_inds,:defaultYes]) => 0.0268\n",
        "proportion_yes = mean(default_glm_test_pred) => "
       ]
      },
      {
       "output_type": "stream",
       "stream": "stdout",
       "text": [
        "0.008\n",
        "err = mean(default_glm_test_pred .!= default[test_inds,:defaultYes]) => 0.0274\n"
       ]
      },
      {
       "metadata": {},
       "output_type": "pyout",
       "prompt_number": 6,
       "text": [
        "3-element Array{Any,1}:\n",
        " 0.0296\n",
        " 0.0268\n",
        " 0.0274"
       ]
      }
     ],
     "prompt_number": 6
    },
    {
     "cell_type": "markdown",
     "metadata": {},
     "source": [
      "## d) Dummy-student"
     ]
    },
    {
     "cell_type": "code",
     "collapsed": false,
     "input": [
      "default[:studentYes] = [s == \"Yes\" ? 1 : 0 for s in default[:student]]\n",
      "glm(defaultYes ~ income + balance + studentYes, default, Binomial())"
     ],
     "language": "python",
     "metadata": {},
     "outputs": [
      {
       "metadata": {},
       "output_type": "pyout",
       "prompt_number": 7,
       "text": [
        "DataFrameRegressionModel{GeneralizedLinearModel,Float64}:\n",
        "\n",
        "Coefficients:\n",
        "               Estimate   Std.Error  z value Pr(>|z|)\n",
        "(Intercept)     -10.869    0.412078 -26.3762   <1e-99\n",
        "income       3.03345e-6  6.86659e-6 0.441769   0.6587\n",
        "balance      0.00573651 0.000194124  29.5507   <1e-99\n",
        "studentYes    -0.646776    0.197772  -3.2703   0.0011\n"
       ]
      }
     ],
     "prompt_number": 7
    },
    {
     "cell_type": "code",
     "collapsed": false,
     "input": [
      "[default_validation(defaultYes ~ income + balance + studentYes) for i in 1:3]"
     ],
     "language": "python",
     "metadata": {},
     "outputs": [
      {
       "output_type": "stream",
       "stream": "stdout",
       "text": [
        "proportion_yes = mean(default_glm_test_pred) => "
       ]
      },
      {
       "output_type": "stream",
       "stream": "stdout",
       "text": [
        "0.0\n",
        "err = mean(default_glm_test_pred .!= default[test_inds,:defaultYes]) => 0.0298\n",
        "proportion_yes = mean(default_glm_test_pred) => 0.0\n",
        "err = mean(default_glm_test_pred .!= default[test_inds,:defaultYes]) => 0.0344\n",
        "proportion_yes = mean(default_glm_test_pred) => 0.0\n",
        "err = mean(default_glm_test_pred .!= default[test_inds,:defaultYes]) => 0.0348\n"
       ]
      },
      {
       "metadata": {},
       "output_type": "pyout",
       "prompt_number": 8,
       "text": [
        "3-element Array{Any,1}:\n",
        " 0.0298\n",
        " 0.0344\n",
        " 0.0348"
       ]
      }
     ],
     "prompt_number": 8
    },
    {
     "cell_type": "markdown",
     "metadata": {},
     "source": [
      "# 6. GLM SE \n",
      "\n",
      "## a) Fit GLM\n",
      "\n",
      "Already did above..."
     ]
    },
    {
     "cell_type": "markdown",
     "metadata": {},
     "source": [
      "## b) Write function"
     ]
    },
    {
     "cell_type": "code",
     "collapsed": false,
     "input": [
      "function default_glm_coef_boot(indices; data=default)\n",
      "    glm_fit = glm(defaultYes ~ balance + income, data[indices, :], Binomial())\n",
      "    coef(glm_fit)[2:3]\n",
      "end\n",
      "\n",
      "coef(default_glm)[2:3]"
     ],
     "language": "python",
     "metadata": {},
     "outputs": [
      {
       "metadata": {},
       "output_type": "pyout",
       "prompt_number": 9,
       "text": [
        "2-element Array{Float64,1}:\n",
        " 0.0056471\n",
        " 2.0809e-5"
       ]
      }
     ],
     "prompt_number": 9
    },
    {
     "cell_type": "markdown",
     "metadata": {},
     "source": [
      "## c) Run it."
     ]
    },
    {
     "cell_type": "code",
     "collapsed": false,
     "input": [
      "default_glm_coef_boot([1:size(default, 1)])\n",
      "\n",
      "coef_samps = boot([1:size(default, 1)], default_glm_coef_boot, n_boot=1000)\n",
      "# glue results into 2-d array using hcat and calculate sample std\n",
      "std(hcat(coef_samps...), 2)"
     ],
     "language": "python",
     "metadata": {},
     "outputs": [
      {
       "metadata": {},
       "output_type": "pyout",
       "prompt_number": 10,
       "text": [
        "2x1 Array{Float64,2}:\n",
        " 0.000231955\n",
        " 4.86114e-6 "
       ]
      }
     ],
     "prompt_number": 10
    },
    {
     "cell_type": "markdown",
     "metadata": {},
     "source": [
      "## d) \n",
      "\n",
      "The bootstrap estimates of the standard error of the coefficients are slightly _higher_ than the originals."
     ]
    },
    {
     "cell_type": "markdown",
     "metadata": {},
     "source": [
      "# 9. Bootstrapped CIs\n",
      "\n",
      "## a) Sample mean"
     ]
    },
    {
     "cell_type": "code",
     "collapsed": false,
     "input": [
      "bos = dataset(\"MASS\", \"Boston\")\n",
      "medv = bos[:MedV]\n",
      "\n",
      "\u03bc\u0302 = mean(medv)"
     ],
     "language": "python",
     "metadata": {},
     "outputs": [
      {
       "metadata": {},
       "output_type": "pyout",
       "prompt_number": 11,
       "text": [
        "22.532806324110666"
       ]
      }
     ],
     "prompt_number": 11
    },
    {
     "cell_type": "markdown",
     "metadata": {},
     "source": [
      "## b) Standard err of $\\hat\\mu$"
     ]
    },
    {
     "cell_type": "code",
     "collapsed": false,
     "input": [
      "SE\u03bc\u0302 = std(medv) / sqrt(length(medv))"
     ],
     "language": "python",
     "metadata": {},
     "outputs": [
      {
       "metadata": {},
       "output_type": "pyout",
       "prompt_number": 12,
       "text": [
        "0.40886114749753505"
       ]
      }
     ],
     "prompt_number": 12
    },
    {
     "cell_type": "markdown",
     "metadata": {},
     "source": [
      "## c) Bootstrapped SE"
     ]
    },
    {
     "cell_type": "code",
     "collapsed": false,
     "input": [
      "srand(1)\n",
      "\u03bc\u0302_boot_samps = boot(medv, mean; n_boot=1000)\n",
      "\n",
      "@show mean(\u03bc\u0302_boot_samps)\n",
      "@show std(\u03bc\u0302_boot_samps)"
     ],
     "language": "python",
     "metadata": {},
     "outputs": [
      {
       "output_type": "stream",
       "stream": "stdout",
       "text": [
        "mean(\u03bc\u0302_boot_samps) => "
       ]
      },
      {
       "output_type": "stream",
       "stream": "stdout",
       "text": [
        "22.538938735177865\n",
        "std(\u03bc\u0302_boot_samps) => 0.41643422009793657\n"
       ]
      },
      {
       "metadata": {},
       "output_type": "pyout",
       "prompt_number": 13,
       "text": [
        "0.41643422009793657"
       ]
      }
     ],
     "prompt_number": 13
    },
    {
     "cell_type": "markdown",
     "metadata": {},
     "source": [
      "## d) Bootstrapped 95% CI"
     ]
    },
    {
     "cell_type": "code",
     "collapsed": false,
     "input": [
      "mean(\u03bc\u0302_boot_samps) .+ (std(\u03bc\u0302_boot_samps) * 2 .* [-1 1])"
     ],
     "language": "python",
     "metadata": {},
     "outputs": [
      {
       "metadata": {},
       "output_type": "pyout",
       "prompt_number": 14,
       "text": [
        "1x2 Array{Float64,2}:\n",
        " 21.7061  23.3718"
       ]
      }
     ],
     "prompt_number": 14
    },
    {
     "cell_type": "markdown",
     "metadata": {},
     "source": [
      "## e) Sample median"
     ]
    },
    {
     "cell_type": "code",
     "collapsed": false,
     "input": [
      "\u03bc\u0302_med = median(medv)"
     ],
     "language": "python",
     "metadata": {},
     "outputs": [
      {
       "metadata": {},
       "output_type": "pyout",
       "prompt_number": 15,
       "text": [
        "21.2"
       ]
      }
     ],
     "prompt_number": 15
    },
    {
     "cell_type": "markdown",
     "metadata": {},
     "source": [
      "## f) Bootstrapped SE of median"
     ]
    },
    {
     "cell_type": "code",
     "collapsed": false,
     "input": [
      "srand(2)\n",
      "\u03bc\u0302_med_boot_samps = boot(medv, median; n_boot=1000)\n",
      "@show \u03bc\u0302_med_boot = mean(\u03bc\u0302_boot_samps)\n",
      "@show \u03bc\u0302_med_SE = std(\u03bc\u0302_med_boot_samps)"
     ],
     "language": "python",
     "metadata": {},
     "outputs": [
      {
       "output_type": "stream",
       "stream": "stdout",
       "text": [
        "\u03bc\u0302_med_boot = mean(\u03bc\u0302_boot_samps) => "
       ]
      },
      {
       "output_type": "stream",
       "stream": "stdout",
       "text": [
        "22.538938735177865\n",
        "\u03bc\u0302_med_SE = std(\u03bc\u0302_med_boot_samps) => 0.3832735264743647\n"
       ]
      },
      {
       "metadata": {},
       "output_type": "pyout",
       "prompt_number": 16,
       "text": [
        "0.3832735264743647"
       ]
      }
     ],
     "prompt_number": 16
    },
    {
     "cell_type": "markdown",
     "metadata": {},
     "source": [
      "## g) Tenth percentile"
     ]
    },
    {
     "cell_type": "code",
     "collapsed": false,
     "input": [
      "\u03bc\u0302_tenth = quantile(medv, 0.1)"
     ],
     "language": "python",
     "metadata": {},
     "outputs": [
      {
       "metadata": {},
       "output_type": "pyout",
       "prompt_number": 17,
       "text": [
        "12.75"
       ]
      }
     ],
     "prompt_number": 17
    },
    {
     "cell_type": "markdown",
     "metadata": {},
     "source": [
      "## h) Bootstrapped SE"
     ]
    },
    {
     "cell_type": "code",
     "collapsed": false,
     "input": [
      "\u03bc\u0302_tenth_boot_samps = boot(medv, x -> quantile(x, 0.1); n_boot=1000)\n",
      "@show \u03bc\u0302_tenth_boot = mean(\u03bc\u0302_tenth_boot_samps)\n",
      "@show \u03bc\u0302_tenth_SE = std(\u03bc\u0302_tenth_boot_samps)"
     ],
     "language": "python",
     "metadata": {},
     "outputs": [
      {
       "output_type": "stream",
       "stream": "stdout",
       "text": [
        "\u03bc\u0302_tenth_boot = mean(\u03bc\u0302_tenth_boot_samps) => "
       ]
      },
      {
       "output_type": "stream",
       "stream": "stdout",
       "text": [
        "12.749249999999995\n",
        "\u03bc\u0302_tenth_SE = std(\u03bc\u0302_tenth_boot_samps) => 0.5125911501257004\n"
       ]
      },
      {
       "metadata": {},
       "output_type": "pyout",
       "prompt_number": 18,
       "text": [
        "0.5125911501257004"
       ]
      }
     ],
     "prompt_number": 18
    },
    {
     "cell_type": "code",
     "collapsed": false,
     "input": [],
     "language": "python",
     "metadata": {},
     "outputs": [],
     "prompt_number": 19
    }
   ],
   "metadata": {}
  }
 ]
}